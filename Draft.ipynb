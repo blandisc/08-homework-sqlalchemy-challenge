{
 "cells": [
  {
   "cell_type": "code",
   "execution_count": 1,
   "metadata": {},
   "outputs": [],
   "source": [
    "import sqlalchemy\n",
    "from sqlalchemy.ext.automap import automap_base\n",
    "from sqlalchemy.orm import Session\n",
    "from sqlalchemy import create_engine, func, inspect, desc\n",
    "\n",
    "from flask import Flask, jsonify\n",
    "import pandas as pd"
   ]
  },
  {
   "cell_type": "code",
   "execution_count": 2,
   "metadata": {},
   "outputs": [],
   "source": [
    "engine = create_engine(\"sqlite:///Resources/hawaii.sqlite\")\n",
    "\n",
    "Base = automap_base()\n",
    "\n",
    "Base.prepare(engine, reflect=True)\n",
    "\n",
    "measurement = Base.classes.measurement\n",
    "\n",
    "station = Base.classes.station\n",
    "\n",
    "session = Session(engine)"
   ]
  },
  {
   "cell_type": "code",
   "execution_count": 3,
   "metadata": {},
   "outputs": [],
   "source": [
    "dates=[]\n",
    "for i in session.query(measurement).all():\n",
    "    dates.append((i.__dict__['date']))\n",
    "\n",
    "\n",
    "prcp =[]\n",
    "for i in session.query(measurement).all():\n",
    "    prcp.append((i.__dict__['prcp']))\n",
    "\n",
    "\n",
    "precipitation = {k: v for k, v in zip(dates, prcp)}"
   ]
  },
  {
   "cell_type": "code",
   "execution_count": 4,
   "metadata": {},
   "outputs": [
    {
     "data": {
      "text/plain": [
       "[('USC00519397'),\n",
       " ('USC00513117'),\n",
       " ('USC00514830'),\n",
       " ('USC00517948'),\n",
       " ('USC00518838'),\n",
       " ('USC00519523'),\n",
       " ('USC00519281'),\n",
       " ('USC00511918'),\n",
       " ('USC00516128')]"
      ]
     },
     "execution_count": 4,
     "metadata": {},
     "output_type": "execute_result"
    }
   ],
   "source": [
    "query_stations= session.query(measurement.station).distinct().all()\n",
    "query_stations"
   ]
  },
  {
   "cell_type": "code",
   "execution_count": 5,
   "metadata": {},
   "outputs": [
    {
     "data": {
      "text/plain": [
       "'USC00519281'"
      ]
     },
     "execution_count": 5,
     "metadata": {},
     "output_type": "execute_result"
    }
   ],
   "source": [
    "active_stations=session.query(measurement.station,\n",
    "    func.count(measurement.id).label('qty')\n",
    "    ).group_by(measurement.station\n",
    "    ).order_by(desc('qty')).all()\n",
    "\n",
    "active_stations[0][0]"
   ]
  },
  {
   "cell_type": "code",
   "execution_count": 6,
   "metadata": {},
   "outputs": [
    {
     "name": "stdout",
     "output_type": "stream",
     "text": [
      "The most active station was: USC00519281\n"
     ]
    }
   ],
   "source": [
    "print(f'The most active station was: {active_stations[0][0]}')"
   ]
  },
  {
   "cell_type": "code",
   "execution_count": 7,
   "metadata": {},
   "outputs": [
    {
     "name": "stdout",
     "output_type": "stream",
     "text": [
      "<class 'datetime.date'>\n"
     ]
    }
   ],
   "source": [
    "import datetime as dt\n",
    "from dateutil.relativedelta import *\n",
    "\n",
    "first_date = (session.query(measurement.date)\n",
    "              .order_by(measurement.date.desc()).first())\n",
    "\n",
    "query_date =first_date[0].split(\"-\")\n",
    "\n",
    "for i in range(0, len(query_date)): \n",
    "    query_date[i] = int(query_date[i])\n",
    "\n",
    "query_date=(dt.date(query_date[0],query_date[1],query_date[2]))\n",
    "\n",
    "\n",
    "query_date = query_date+relativedelta(months=-12)\n",
    "\n",
    "active_temp = session.query(measurement.tobs).\\\n",
    "    filter(measurement.date > query_date).\\\n",
    "    filter(measurement.station == active_stations[0][0]).all()\n",
    "\n",
    "flat_list = []\n",
    "for sublist in active_temp:\n",
    "    for item in sublist:\n",
    "        flat_list.append(item)\n",
    "active_temp = flat_list\n",
    "\n",
    "tobs_dict = {k: v for k, v in zip(dates, active_temp)}\n",
    "print(type(query_date))"
   ]
  },
  {
   "cell_type": "code",
   "execution_count": 8,
   "metadata": {},
   "outputs": [
    {
     "data": {
      "text/plain": [
       "'2017-08-23'"
      ]
     },
     "execution_count": 8,
     "metadata": {},
     "output_type": "execute_result"
    }
   ],
   "source": [
    "first_date = (session.query(measurement.date)\n",
    "              .order_by(measurement.date.desc()).first())\n",
    "first_date[0]"
   ]
  },
  {
   "cell_type": "code",
   "execution_count": 9,
   "metadata": {},
   "outputs": [],
   "source": [
    "not_date = '2016-08-23'"
   ]
  },
  {
   "cell_type": "code",
   "execution_count": 10,
   "metadata": {},
   "outputs": [],
   "source": [
    "def start(given_date):\n",
    "    \n",
    "    given_date =given_date.split(\"-\")\n",
    "\n",
    "    for i in range(0, len(given_date)): \n",
    "        given_date[i] = int(given_date[i])\n",
    "        \n",
    "    given_date=(dt.date(given_date[0],given_date[1],given_date[2]))\n",
    "        \n",
    "    high_temp= session.query(func.max(measurement.tobs).\\\n",
    "    filter(measurement.date > given_date)).all()\n",
    "    \n",
    "    low_temp= session.query(func.min(measurement.tobs).\\\n",
    "    filter(measurement.station == active_stations[0][0])).all()\n",
    "    \n",
    "    mean_temp= session.query(func.avg(measurement.tobs).\\\n",
    "    filter(measurement.station == active_stations[0][0])).all()\n",
    "    \n"
   ]
  },
  {
   "cell_type": "code",
   "execution_count": 11,
   "metadata": {},
   "outputs": [],
   "source": [
    "start(not_date)"
   ]
  },
  {
   "cell_type": "code",
   "execution_count": 12,
   "metadata": {},
   "outputs": [],
   "source": [
    "def start(given_date):\n",
    "    \n",
    "    given_date =given_date.split(\"-\")\n",
    "\n",
    "    for i in range(0, len(given_date)): \n",
    "        given_date[i] = int(given_date[i])\n",
    "        \n",
    "    given_date=(dt.date(given_date[0],given_date[1],given_date[2]))\n",
    "        \n",
    "    max_temp = session.query(func.max(measurement.tobs).\\\n",
    "    filter(measurement.date >= given_date)).all()\n",
    "                             \n",
    "    min_temp = session.query(func.min(measurement.tobs).\\\n",
    "    filter(measurement.date >= given_date)).all()\n",
    "                            \n",
    "    avg_temp= session.query(func.avg(measurement.tobs).\\\n",
    "    filter(measurement.date >= given_date)).all()\n",
    "    \n",
    "    start_df  = pd.DataFrame({\n",
    "    \"Start Date\": given_date,\n",
    "    \"Lowest Temperature\" : min_temp[0],\n",
    "    \"Highest Temperature\": max_temp[0],\n",
    "    \"Average Temperature\": round(avg_temp[0][0],2)\n",
    "    })\n",
    "    \n",
    "    return (f\"The start date is {given_date}\\n\"\n",
    "               f\"the minimum temperature since then is {min_temp[0][0]} F \\n\"\n",
    "               f\"the average temperature {round(avg_temp[0][0],2)} F\"\n",
    "               f\", and the max temperature {max_temp[0][0]} F\")\n",
    "#     return print(results)"
   ]
  },
  {
   "cell_type": "code",
   "execution_count": 13,
   "metadata": {},
   "outputs": [
    {
     "data": {
      "text/plain": [
       "'The start date is 2017-05-01\\nthe minimum temperature since then is 65.0 F \\nthe average temperature 77.27 F, and the max temperature 87.0 F'"
      ]
     },
     "execution_count": 13,
     "metadata": {},
     "output_type": "execute_result"
    }
   ],
   "source": [
    "start('2017-05-01')"
   ]
  },
  {
   "cell_type": "code",
   "execution_count": 19,
   "metadata": {},
   "outputs": [],
   "source": [
    "def fer(start_date,end_date):\n",
    "\n",
    "    start_date =start_date.split(\"-\")\n",
    "\n",
    "    for i in range(0, len(start_date)): \n",
    "        start_date[i] = int(start_date[i])\n",
    "        \n",
    "    start_date=(dt.date(start_date[0],start_date[1],start_date[2]))\n",
    "    \n",
    "    end_date =end_date.split(\"-\")\n",
    "\n",
    "    for i in range(0, len(end_date)): \n",
    "        end_date[i] = int(end_date[i])\n",
    "        \n",
    "    end_date=(dt.date(end_date[0],end_date[1],end_date[2]))\n",
    "    \n",
    "    max_temp = session.query(func.max(measurement.tobs).\\\n",
    "    filter(measurement.date >= start_date).\\\n",
    "    filter(measurement.date <= end_date)).\\\n",
    "    all()\n",
    "                             \n",
    "    min_temp = session.query(func.min(measurement.tobs).\\\n",
    "    filter(measurement.date >= start_date).\\\n",
    "    filter(measurement.date <= end_date)).\\\n",
    "    all()\n",
    "                            \n",
    "    avg_temp= session.query(func.avg(measurement.tobs).\\\n",
    "    filter(measurement.date >= start_date).\\\n",
    "    filter(measurement.date <= end_date)).\\\n",
    "    all()\n",
    "    \n",
    "#     session.close()\n",
    "\n",
    "    return (f\"The start date is {start_date}\\n\"\n",
    "            f\" the end date is {end_date}\\n\"\n",
    "               f\"the minimum temperature during that period is {min_temp[0][0]} F \\n\"\n",
    "               f\"the average temperature {round(avg_temp[0][0],2)} F\"\n",
    "               f\", and the max temperature {max_temp[0][0]} F\")\n",
    "    "
   ]
  },
  {
   "cell_type": "code",
   "execution_count": 20,
   "metadata": {},
   "outputs": [
    {
     "data": {
      "text/plain": [
       "'The start date is 2013-05-01\\n the end date is 2014-05-01\\nthe minimum temperature during that period is 57.0 F \\nthe average temperature 72.84 F, and the max temperature 86.0 F'"
      ]
     },
     "execution_count": 20,
     "metadata": {},
     "output_type": "execute_result"
    }
   ],
   "source": [
    "fer('2013-05-01','2014-05-01')"
   ]
  },
  {
   "cell_type": "code",
   "execution_count": null,
   "metadata": {},
   "outputs": [],
   "source": [
    "start_date= \"2013-05-01\""
   ]
  },
  {
   "cell_type": "code",
   "execution_count": null,
   "metadata": {},
   "outputs": [],
   "source": [
    "start_date =start_date.split(\"-\")"
   ]
  },
  {
   "cell_type": "code",
   "execution_count": null,
   "metadata": {},
   "outputs": [],
   "source": [
    "for i in range(0, len(start_date)): \n",
    "    start_date[i] = int(start_date[i])"
   ]
  },
  {
   "cell_type": "code",
   "execution_count": null,
   "metadata": {},
   "outputs": [],
   "source": [
    "given_date = not_date\n",
    "for i in range(0, len(given_date)): \n",
    "    given_date[i] = int(given_date[i])"
   ]
  },
  {
   "cell_type": "code",
   "execution_count": null,
   "metadata": {},
   "outputs": [],
   "source": []
  }
 ],
 "metadata": {
  "kernelspec": {
   "display_name": "Python 3",
   "language": "python",
   "name": "python3"
  },
  "language_info": {
   "codemirror_mode": {
    "name": "ipython",
    "version": 3
   },
   "file_extension": ".py",
   "mimetype": "text/x-python",
   "name": "python",
   "nbconvert_exporter": "python",
   "pygments_lexer": "ipython3",
   "version": "3.7.6"
  }
 },
 "nbformat": 4,
 "nbformat_minor": 4
}
